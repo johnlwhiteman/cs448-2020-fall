{
 "cells": [
  {
   "cell_type": "markdown",
   "metadata": {
    "ExecuteTime": {
     "end_time": "2020-09-02T17:27:12.198949Z",
     "start_time": "2020-09-02T17:27:12.186951Z"
    },
    "slideshow": {
     "slide_type": "slide"
    }
   },
   "source": [
    "# Middle Square Method (MSM)"
   ]
  },
  {
   "cell_type": "code",
   "execution_count": null,
   "metadata": {
    "ExecuteTime": {
     "end_time": "2020-09-02T17:27:12.876944Z",
     "start_time": "2020-09-02T17:27:12.200950Z"
    },
    "slideshow": {
     "slide_type": "skip"
    }
   },
   "outputs": [],
   "source": [
    "import Chart\n",
    "import Crypto"
   ]
  },
  {
   "cell_type": "markdown",
   "metadata": {},
   "source": [
    "Start with a seed to generate some numbers. We don't know how many numbers we before repeating or converging to zero."
   ]
  },
  {
   "cell_type": "code",
   "execution_count": null,
   "metadata": {
    "ExecuteTime": {
     "end_time": "2020-09-02T17:27:12.892944Z",
     "start_time": "2020-09-02T17:27:12.878944Z"
    },
    "tags": []
   },
   "outputs": [],
   "source": [
    "seed = 343435\n",
    "samples = [sample for sample in Crypto.genMsm(seed)]\n",
    "samples.insert(0, seed)\n",
    "print(\"MSM {0} at {1} samples.\".format(Crypto.genMsm.state, Crypto.genMsm.count))\n",
    "print(samples)"
   ]
  },
  {
   "cell_type": "markdown",
   "metadata": {},
   "source": [
    "Everything eventually converges to 0. Why? If we provide a larger value for the seed, are we guaranteed more samples?  "
   ]
  },
  {
   "cell_type": "code",
   "execution_count": null,
   "metadata": {
    "ExecuteTime": {
     "end_time": "2020-09-02T17:27:13.126940Z",
     "start_time": "2020-09-02T17:27:12.894946Z"
    }
   },
   "outputs": [],
   "source": [
    "Chart.plot1(samples)"
   ]
  },
  {
   "cell_type": "markdown",
   "metadata": {},
   "source": [
    "This plot shows the see as the x axis. The seed starts high but eventually circles to a certain death at zero. Reminds me of water as it spirals down a drain."
   ]
  },
  {
   "cell_type": "code",
   "execution_count": null,
   "metadata": {
    "ExecuteTime": {
     "end_time": "2020-09-02T17:27:13.329939Z",
     "start_time": "2020-09-02T17:27:13.128942Z"
    }
   },
   "outputs": [],
   "source": [
    "Chart.plot2(samples)"
   ]
  },
  {
   "cell_type": "markdown",
   "metadata": {
    "ExecuteTime": {
     "end_time": "2020-08-02T21:17:21.000803Z",
     "start_time": "2020-08-02T21:17:20.987801Z"
    }
   },
   "source": [
    "Try to avoid clustering. Keep the social distance."
   ]
  },
  {
   "cell_type": "code",
   "execution_count": null,
   "metadata": {
    "ExecuteTime": {
     "end_time": "2020-09-02T17:27:13.504144Z",
     "start_time": "2020-09-02T17:27:13.331941Z"
    }
   },
   "outputs": [],
   "source": [
    "Chart.plot3(samples)"
   ]
  },
  {
   "cell_type": "markdown",
   "metadata": {},
   "source": [
    "Even with a very large range, you are not guaranteed that every value will be 0 before converging. The means that the distrubtion is not perfect. "
   ]
  },
  {
   "cell_type": "code",
   "execution_count": null,
   "metadata": {
    "ExecuteTime": {
     "end_time": "2020-09-02T17:27:13.535152Z",
     "start_time": "2020-09-02T17:27:13.506153Z"
    }
   },
   "outputs": [],
   "source": [
    "duplicates = []\n",
    "for seed in range(9896, 10100):\n",
    "    samples = [sample for sample in Crypto.genMsm(seed)]\n",
    "    if Crypto.genMsm.state == \"duplicate\":\n",
    "        duplicates.append(seed)\n",
    "print(\"These {0} seed(s) have duplicates:\".format(len(duplicates)))\n",
    "print(duplicates)"
   ]
  },
  {
   "cell_type": "code",
   "execution_count": null,
   "metadata": {},
   "outputs": [],
   "source": []
  }
 ],
 "metadata": {
  "kernelspec": {
   "display_name": "Python 3",
   "language": "python",
   "name": "python3"
  },
  "language_info": {
   "codemirror_mode": {
    "name": "ipython",
    "version": 3
   },
   "file_extension": ".py",
   "mimetype": "text/x-python",
   "name": "python",
   "nbconvert_exporter": "python",
   "pygments_lexer": "ipython3",
   "version": "3.8.4"
  }
 },
 "nbformat": 4,
 "nbformat_minor": 2
}
